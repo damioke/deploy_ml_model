{
 "cells": [
  {
   "cell_type": "markdown",
   "metadata": {},
   "source": [
    "#### The instructor assumes attendees are familiar with:\n",
    "\n",
    "- Jupyter notebook or Jupyter Lab (setup and usage)\n",
    "- Basic Python (data types, list comprehension and functions)\n",
    "- Python modules (pandas, numpy, matplotlib, and sklearn)\n",
    "- Statistics / ML concepts (variables types, log transformation, linear models, over-fitting, under-fitting, cardinality, feature selection methods, etc)"
   ]
  }
 ],
 "metadata": {
  "kernelspec": {
   "display_name": "Python 3",
   "language": "python",
   "name": "python3"
  },
  "language_info": {
   "codemirror_mode": {
    "name": "ipython",
    "version": 3
   },
   "file_extension": ".py",
   "mimetype": "text/x-python",
   "name": "python",
   "nbconvert_exporter": "python",
   "pygments_lexer": "ipython3",
   "version": "3.7.3"
  }
 },
 "nbformat": 4,
 "nbformat_minor": 4
}
